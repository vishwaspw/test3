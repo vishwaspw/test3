{
 "cells": [
  {
   "cell_type": "code",
   "execution_count": null,
   "id": "65b78a83-2283-4fa9-87ec-5df9f043fa00",
   "metadata": {},
   "outputs": [],
   "source": [
    "#all the below programs are userdefined\n",
    "'''in the below problems i have created all user defined lists \n",
    "and didnt take any list as an example for solving'''"
   ]
  },
  {
   "cell_type": "code",
   "execution_count": null,
   "id": "d146404c-4987-4486-9d94-b7f5fa935417",
   "metadata": {},
   "outputs": [],
   "source": [
    "#1\n",
    "for i in range(1,11):\n",
    "    print(i)"
   ]
  },
  {
   "cell_type": "code",
   "execution_count": null,
   "id": "b481d2f5-796a-47d3-8f2a-e98dc8ca8bd8",
   "metadata": {},
   "outputs": [],
   "source": [
    "#3\n",
    "a=input(\"Enter the string\")\n",
    "for i in range(len(a)-1,-1,-1):\n",
    "    print(a[i],end=\"\")"
   ]
  },
  {
   "cell_type": "code",
   "execution_count": null,
   "id": "2bbd442c-c5df-4fdb-90c7-7c412416cb76",
   "metadata": {},
   "outputs": [],
   "source": [
    "#4\n",
    "n=int(input(\"Enter the number\"))\n",
    "p=1\n",
    "for i in range(1,n+1):\n",
    "    p*=i\n",
    "print(\"the factorial of\",n,\"is\",p)"
   ]
  },
  {
   "cell_type": "code",
   "execution_count": null,
   "id": "d7a40266-0cf5-4a6a-ae3c-14c12a20c51f",
   "metadata": {},
   "outputs": [],
   "source": [
    "#5\n",
    "n=int(input(\"Enter the number\"))\n",
    "for  i in range(1,11):\n",
    "    print(n,\"*\",i,\"=\",n*i)"
   ]
  },
  {
   "cell_type": "code",
   "execution_count": null,
   "id": "088f71a7-7973-4a3a-b647-1db3323ced6f",
   "metadata": {},
   "outputs": [],
   "source": [
    "#6\n",
    "#User defined list\n",
    "a=int(input(\"Enter the number of elements in list\"))\n",
    "l1=[]\n",
    "for i in range(a):\n",
    "    e=int(input(\"Enter the number\"))\n",
    "    l1.append(e)\n",
    "c1,c2=0,0\n",
    "for i in l1:\n",
    "    if(i%2==0):\n",
    "        c1+=1\n",
    "    else:\n",
    "        c2+=1\n",
    "print(\"The no of even is \",c1)\n",
    "print(\"The no of odd is \",c2)"
   ]
  },
  {
   "cell_type": "code",
   "execution_count": null,
   "id": "657121e4-4a6e-4c4f-8d19-4219ff041b81",
   "metadata": {},
   "outputs": [],
   "source": [
    "#7 \n",
    "for i in range(1,6):\n",
    "    print(i**2,end=\" \")"
   ]
  },
  {
   "cell_type": "code",
   "execution_count": null,
   "id": "c523f3f7-b7ab-4752-9fb0-399d3bd6df74",
   "metadata": {},
   "outputs": [],
   "source": [
    "#8\n",
    "a=input(\"Enter the string\")\n",
    "sum1=0\n",
    "for i in a:\n",
    "    sum1+=1\n",
    "print(\"The length of the string\",a,\"is\",sum1)"
   ]
  },
  {
   "cell_type": "code",
   "execution_count": null,
   "id": "c564a3da-4c40-4e92-b826-6f9a2a474e3a",
   "metadata": {},
   "outputs": [],
   "source": [
    "#9\n",
    "#User defined list\n",
    "a=int(input(\"Enter the number of elements in list\"))\n",
    "l1=[]\n",
    "for i in range(a):\n",
    "    e=int(input(\"Enter the number\"))\n",
    "    l1.append(e)\n",
    "b=len(l1)\n",
    "sum=0\n",
    "for i in l1:\n",
    "    sum+=i\n",
    "print(\"average is : \",sum//b)"
   ]
  },
  {
   "cell_type": "code",
   "execution_count": null,
   "id": "0a2a3400-1d91-49db-988e-1ff5863b5138",
   "metadata": {},
   "outputs": [],
   "source": [
    "# 10\n",
    "n=int(input(\"Enter the no of fibonacci numbers required\"))\n",
    "f=[0,1]\n",
    "for i in range(2,n):\n",
    "    f.append(f[-1]+f[-2])\n",
    "for i in f:\n",
    "    print(i,end=\" \")"
   ]
  },
  {
   "cell_type": "code",
   "execution_count": null,
   "id": "911ff2b7-8736-4042-92a3-e57578648a81",
   "metadata": {},
   "outputs": [],
   "source": [
    "#11\n",
    "#User defined list\n",
    "a=int(input(\"Enter the number of elements in list\"))\n",
    "l1=[]\n",
    "for i in range(a):\n",
    "    e=int(input(\"Enter the number\"))\n",
    "    l1.append(e)\n",
    "b=0\n",
    "for i in range(len(l1)):\n",
    "    for j in range(i+1,len(l1)):\n",
    "        if l1[i]==l1[j]:\n",
    "            b+=1\n",
    "            break\n",
    "if b>=1:\n",
    "    print(\"the list have duplicates\")\n",
    "else:\n",
    "    print(\"The list doesnot have duplicates\")"
   ]
  },
  {
   "cell_type": "code",
   "execution_count": null,
   "id": "0aad55dc-7a90-4781-bafa-d92fe9ff3c3e",
   "metadata": {},
   "outputs": [],
   "source": [
    "#12\n",
    "a=int(input(\"Enter the start range : \"))\n",
    "b=int(input(\"Enter the end range : \"))\n",
    "for i in range(a,b+1):\n",
    "    for j in range(2,i):\n",
    "        if(i%j==0):\n",
    "            break\n",
    "    else:\n",
    "        print(i,end=\" \")"
   ]
  },
  {
   "cell_type": "code",
   "execution_count": null,
   "id": "25e7b78c-d270-4708-8e09-c1100ed20f0e",
   "metadata": {},
   "outputs": [],
   "source": [
    "#13\n",
    "a=input(\"Enter the string : \")\n",
    "v=\"aeiouAEIOU\"\n",
    "c=0\n",
    "for i in a:\n",
    "    if i in v:\n",
    "        c+=1\n",
    "print(\"The no of vowels in\",a,\"is\",c)"
   ]
  },
  {
   "cell_type": "code",
   "execution_count": null,
   "id": "a1989a71-6767-4f91-8cd2-747c568917e8",
   "metadata": {},
   "outputs": [],
   "source": [
    "#14\n",
    "#a userdefined twod list or nested list is created below\n",
    "a=int(input(\"Enter the number of sublists\"))\n",
    "l=[]\n",
    "for i in range(a):\n",
    "    b=int(input(\"Enter the no of elements for respective sublist\"))\n",
    "    l1=[]\n",
    "    for i in range(b):\n",
    "        e=int(input(\"Enter the element\"))\n",
    "        l1.append(e)\n",
    "    l.append(l1)\n",
    "m=0\n",
    "for i in range(len(l)):\n",
    "    for j in range(len(l[i])):\n",
    "        if l[i][j]>m:\n",
    "            m=l[i][j]\n",
    "print(\"Maximum element in the 2D list:\",m)"
   ]
  },
  {
   "cell_type": "code",
   "execution_count": null,
   "id": "494529df-ee29-45e9-beb3-90996412c5fc",
   "metadata": {},
   "outputs": [],
   "source": [
    "#15\n",
    "a=int(input(\"Enter the number of elements in list\"))\n",
    "l1=[]\n",
    "for i in range(a):\n",
    "    e=int(input(\"Enter the number\"))\n",
    "    l1.append(e)\n",
    "b=int(input(\"Enter the element which is to be removed\"))\n",
    "for i in l1:\n",
    "    if(i==b):\n",
    "        l.remove(i)\n",
    "print(l)"
   ]
  },
  {
   "cell_type": "code",
   "execution_count": null,
   "id": "4b34286c-355e-4637-912e-dcb7f3332df6",
   "metadata": {},
   "outputs": [],
   "source": [
    "#16\n",
    "for i in range(1,6):\n",
    "    for j in range(1,11):\n",
    "        print(i,\"*\",j,\"=\",i*j)"
   ]
  },
  {
   "cell_type": "code",
   "execution_count": null,
   "id": "df08bc99-4873-4b1d-bd5e-f7502f46d757",
   "metadata": {},
   "outputs": [],
   "source": [
    "#17\n",
    "a=int(input(\"Enter the temperatures to be kept in list\"))\n",
    "l1=[]\n",
    "for i in range(a):\n",
    "    e=int(input(\"Enter temperature\"))\n",
    "    l1.append(e)\n",
    "l2=[]\n",
    "for temp in l1:\n",
    "    c = (temp - 32) * 5.0/9.0\n",
    "    l2.append(c)\n",
    "\n",
    "print(\"Fahrenheit Temperatures:\", l1)\n",
    "print(\"Celsius Temperatures:\", l2)"
   ]
  },
  {
   "cell_type": "code",
   "execution_count": null,
   "id": "6efc9f4b-302f-41d9-bfec-e69794cfe0a9",
   "metadata": {},
   "outputs": [],
   "source": [
    "#18\n",
    "#two userdefined lists are taken \n",
    "a=int(input(\"Enter the number of elements in list1\"))\n",
    "l1=[]\n",
    "for i in range(a):\n",
    "    e=input(\"Enter the number\")\n",
    "    l1.append(e)\n",
    "b=int(input(\"Enter the number of elements in list2\"))\n",
    "l2=[]\n",
    "for i in range(a):\n",
    "    e=input(\"Enter the number\")\n",
    "    l2.append(e)\n",
    "common_elements=[]\n",
    "for item in l1:\n",
    "    if item in l2:\n",
    "        common_elements.append(item)\n",
    "\n",
    "print(\"Common elements in the two lists:\", common_elements)"
   ]
  },
  {
   "cell_type": "code",
   "execution_count": null,
   "id": "3c76fcdb-b266-4f46-81ba-07b4d7be3b4e",
   "metadata": {},
   "outputs": [],
   "source": [
    "#19\n",
    "for i in range(5):\n",
    "    for j in range(i+1):\n",
    "        print(\"*\",end=\" \")\n",
    "    print()"
   ]
  },
  {
   "cell_type": "code",
   "execution_count": null,
   "id": "2422f442-ac38-4f79-9eab-896d3888250f",
   "metadata": {},
   "outputs": [],
   "source": [
    "#20\n",
    "num1 = int(input(\"Enter num1\"))\n",
    "num2 = int(input(\"Enter num2\"))\n",
    "gcd=1\n",
    "for i in range(1, min(num1, num2) + 1):\n",
    "    if num1 % i == 0 and num2 % i == 0:\n",
    "        gcd = i\n",
    "print(\"Greatest Common Divisor (GCD) of\", num1, \"and\", num2, \"is\", gcd)"
   ]
  },
  {
   "cell_type": "code",
   "execution_count": null,
   "id": "a2fadeef-c99d-44db-8453-49fdc6f3ff19",
   "metadata": {},
   "outputs": [],
   "source": [
    "#21\n",
    "#User defined list\n",
    "a=int(input(\"Enter the number of elements in list\"))\n",
    "l1=[]\n",
    "for i in range(a):\n",
    "    e=int(input(\"Enter the number\"))\n",
    "    l1.append(e)\n",
    "digit_sum = sum([int(digit) for num in l1 for digit in str(num)])\n",
    "print(\"Sum of digits:\", digit_sum)"
   ]
  },
  {
   "cell_type": "code",
   "execution_count": null,
   "id": "135c74a7-47a5-4450-aee2-f3067b3905f4",
   "metadata": {},
   "outputs": [],
   "source": [
    "# 22\n",
    "n=int(input(\"Enter the number\"))\n",
    "s=[i for i in range(2,n) if n%i==0 and all(i%j!=0 for j in range(2,int(i**0.50)+1))]\n",
    "print(\"Prime factors of \",n,\"are\",s)"
   ]
  },
  {
   "cell_type": "code",
   "execution_count": null,
   "id": "f51451a3-ccb0-4b6a-b87a-d0d62215b6c7",
   "metadata": {},
   "outputs": [],
   "source": [
    "# 23\n",
    "#User defined list\n",
    "a=int(input(\"Enter the number of elements in list\"))\n",
    "l1=[]\n",
    "for i in range(a):\n",
    "    e=int(input(\"Enter the element\"))\n",
    "    l1.append(e)\n",
    "unique=[i for i in l1 if l1.count(i)==1]\n",
    "print(\"Unique elements are\",unique)"
   ]
  },
  {
   "cell_type": "code",
   "execution_count": null,
   "id": "a208df04-28ae-4758-abc4-0dae96c58edf",
   "metadata": {},
   "outputs": [],
   "source": [
    "# 24\n",
    "limit = int(input(\"Enter limit: \"))\n",
    "palindromic_numbers = [num for num in range(limit + 1) if str(num) == str(num)[::-1]]\n",
    "print(\"Palindromic numbers:\", palindromic_numbers)"
   ]
  },
  {
   "cell_type": "code",
   "execution_count": null,
   "id": "8d9821fd-4ac0-4adc-8abb-f204f3d65ed8",
   "metadata": {},
   "outputs": [],
   "source": [
    "# 25\n",
    "# user defined nested list is created \n",
    "a=int(input(\"Enter the number of sublists\"))\n",
    "l=[]\n",
    "for i in range(a):\n",
    "    b=int(input(\"Enter the no of elements for respective sublist\"))\n",
    "    l1=[]\n",
    "    for i in range(b):\n",
    "        e=int(input(\"Enter the element\"))\n",
    "        l1.append(e)\n",
    "    l.append(l1)\n",
    "flattened_list = [num for sublist in l for num in sublist]\n",
    "print(\"Flattened list:\", flattened_list)"
   ]
  },
  {
   "cell_type": "code",
   "execution_count": null,
   "id": "51689c25-4a06-4f0e-86d1-72e64ae83fbc",
   "metadata": {},
   "outputs": [],
   "source": [
    "# 26\n",
    "# user defined list\n",
    "a=int(input(\"Enter the number of elements in list\"))\n",
    "l1=[]\n",
    "for i in range(a):\n",
    "    e=int(input(\"Enter the number\"))\n",
    "    l1.append(e)\n",
    "even_sum = sum([num for num in l1 if num % 2 == 0])\n",
    "odd_sum = sum([num for num in l1 if num % 2 != 0])\n",
    "print(\"Sum of even numbers:\", even_sum)\n",
    "print(\"Sum of odd numbers:\", odd_sum)"
   ]
  },
  {
   "cell_type": "code",
   "execution_count": null,
   "id": "7dd8426c-e66a-4131-8663-4d1080ce5791",
   "metadata": {},
   "outputs": [],
   "source": [
    "#27\n",
    "squares=[i*i for i in range(1,11) if(i%2==1)]\n",
    "print(squares)"
   ]
  },
  {
   "cell_type": "code",
   "execution_count": null,
   "id": "903d626c-f3e7-425c-a88c-610c7f7df4c8",
   "metadata": {},
   "outputs": [],
   "source": [
    "#28\n",
    "#here iam creating two user defined lists with same length\n",
    "a=int(input(\"Enter the length of two lists required to form dictionary\"))\n",
    "l1,l2=[],[]\n",
    "for i in range(a):\n",
    "    e=input(\"Enter the element\")\n",
    "    l1.append(e)\n",
    "for i in range(a):\n",
    "    e=input(\"Enter the element\")\n",
    "    l2.append(e)\n",
    "d={l1[i]:l2[i] for i in range(len(l1))}\n",
    "print(d)"
   ]
  },
  {
   "cell_type": "code",
   "execution_count": null,
   "id": "ae6bdb7b-fedf-4b90-bc76-733c03766763",
   "metadata": {},
   "outputs": [],
   "source": [
    "#29\n",
    "a=input(\"Enter the word\")\n",
    "vowels=\"aeiouAEIOU\"\n",
    "vl=[i for i in a if i in vowels]\n",
    "print(\"Vowels present in word \",a,\"is\",vl)"
   ]
  },
  {
   "cell_type": "code",
   "execution_count": null,
   "id": "e317938d-484a-4c8e-b08e-dae9d4b02d93",
   "metadata": {},
   "outputs": [],
   "source": [
    "#30\n",
    "#User defined list\n",
    "a=int(input(\"Enter the number of elements in list\"))\n",
    "l1=[]\n",
    "for i in range(a):\n",
    "    e=input(\"Enter the number\")\n",
    "    l1.append(e)\n",
    "numeric=[i for i in l1 if i.isdigit()]\n",
    "print(\"Numeric striings : \",numeric)"
   ]
  },
  {
   "cell_type": "code",
   "execution_count": null,
   "id": "249906e1-7d6e-4c10-b9b5-f43fc4cc2036",
   "metadata": {},
   "outputs": [],
   "source": [
    "# 31\n",
    "n=int(input(\"Enter the limit : \"))\n",
    "l=[2,3,5,7]\n",
    "[l.append(i) for i in range(2,n) if(i%2!=0 and i%3!=0 and i%5!=0 and i%7!=0)]\n",
    "print(l)"
   ]
  },
  {
   "cell_type": "code",
   "execution_count": null,
   "id": "1c63a146-a720-40a3-a118-1e380204ffcc",
   "metadata": {},
   "outputs": [],
   "source": [
    "# 32\n",
    "limit = int(input(\"Enter the limit\"))\n",
    "pythagorean_triplets = [(a, b, c) for a in range(1, limit) for b in range(a, limit) for c in range(b, limit) if a**2 + b**2 == c**2]\n",
    "print(pythagorean_triplets)"
   ]
  },
  {
   "cell_type": "code",
   "execution_count": null,
   "id": "c0f6d8ec-bb71-4ff5-9e40-a26743a02c46",
   "metadata": {},
   "outputs": [],
   "source": [
    "# 33\n",
    "#here iam creating two user defined lists \n",
    "a=int(input(\"Enter the length of list1\"))\n",
    "l1,l2=[],[]\n",
    "for i in range(a):\n",
    "    e=input(\"Enter the element\")\n",
    "    l1.append(e)\n",
    "b=int(input(\"Enter the length of list2\"))\n",
    "for i in range(b):\n",
    "    e=input(\"Enter the element\")\n",
    "    l2.append(e)\n",
    "combinations = [(x, y) for x in l1 for y in l2]\n",
    "print(combinations)"
   ]
  },
  {
   "cell_type": "code",
   "execution_count": null,
   "id": "1da31369-cd22-4888-8c25-ed4f530471be",
   "metadata": {},
   "outputs": [],
   "source": [
    "# 34\n",
    "# user defined list\n",
    "a=int(input(\"Enter the number of elements in list\"))\n",
    "numbers=[]\n",
    "for i in range(a):\n",
    "    e=int(input(\"Enter the number\"))\n",
    "    numbers.append(e)\n",
    "mean = sum(numbers) / len(numbers)\n",
    "sorted_numbers = sorted(numbers)\n",
    "median = sorted_numbers[len(numbers) // 2] if len(numbers) % 2 != 0 else (sorted_numbers[len(numbers) // 2 - 1] + sorted_numbers[len(numbers) // 2]) / 2\n",
    "mode = max(set(numbers), key=numbers.count)\n",
    "print(\"Mean:\", mean)\n",
    "print(\"Median:\", median)\n",
    "print(\"Mode:\", mode)"
   ]
  },
  {
   "cell_type": "code",
   "execution_count": null,
   "id": "f2ac73fb-9c12-4ae7-af2a-6893d5ff85d8",
   "metadata": {},
   "outputs": [],
   "source": [
    "# 35\n",
    "n=int(input(\"Enter the upper limit of row required\"))\n",
    "p=[[1]]\n",
    "[p.append([1] + [p[row-1][i-1]+p[row-1][i] for i in range(row)] + [1]) for row in range(n)]\n",
    "for i in p:\n",
    "    for j in i:\n",
    "        print(j,end=\" \")\n",
    "    print()"
   ]
  },
  {
   "cell_type": "code",
   "execution_count": null,
   "id": "c243ba00-36c1-4ae6-9c69-ab607d7602b8",
   "metadata": {},
   "outputs": [],
   "source": [
    "# 36\n",
    "import math\n",
    "\n",
    "factorials_sum = sum([sum(int(digit) for digit in str(math.factorial(num))) for num in range(1, 6)])\n",
    "print(factorials_sum)\n"
   ]
  },
  {
   "cell_type": "code",
   "execution_count": null,
   "id": "89552eef-bfe3-4bfe-8035-1583ce819a0e",
   "metadata": {},
   "outputs": [],
   "source": [
    "# 37\n",
    "a=input(\"Enter the sentence : \")\n",
    "l=a.split()\n",
    "b=[i for i in l if len(i)==len(max(l,key=lambda x:len(x)))]\n",
    "print(\"The longest word in the sentence is\",b[0])"
   ]
  },
  {
   "cell_type": "code",
   "execution_count": null,
   "id": "c0c2ae0f-2c98-4508-88f4-a6bea642fc7a",
   "metadata": {},
   "outputs": [],
   "source": [
    "# 38\n",
    "a=input(\"Enter the sentence : \")\n",
    "l=a.split()\n",
    "b=[s for s in l if sum(1 for i in s if i in \"aeiouAEIOU\")>3]\n",
    "print(b)"
   ]
  },
  {
   "cell_type": "code",
   "execution_count": null,
   "id": "c6a293fe-b6ff-477e-96eb-8b3cd831b18e",
   "metadata": {},
   "outputs": [],
   "source": [
    "# 39\n",
    "a=[sum(int(j) for i in range(1,1001) for j in str(i))]\n",
    "print(a[0])"
   ]
  },
  {
   "cell_type": "code",
   "execution_count": null,
   "id": "3c0d9cd3-9a94-4311-874e-958c7b17f9e0",
   "metadata": {},
   "outputs": [],
   "source": [
    "# 40\n",
    "l=int(input(\"Enter the limit : \"))\n",
    "ppn = [n for n in range(2, l) if all(n % i != 0 for i in range(2, int(n**0.5) + 1)) and str(n) == str(n)[::-1]]\n",
    "print(\"Prime palindromic numbers:\", prime_palindromic_numbers)\n"
   ]
  },
  {
   "cell_type": "code",
   "execution_count": null,
   "id": "ebc813a2-ca80-4332-ad1f-b54b2f32e98d",
   "metadata": {},
   "outputs": [],
   "source": [
    "31. Write a program to generate a list of prime numbers using the Sieve of Eratosthenes algorithm and list \n",
    "comprehension.\n",
    "\n",
    "32. Create a program that generates a list of all Pythagorean triplets up to a specified limit using list \n",
    "comprehension.\n",
    "\n",
    "\n",
    "33. Develop a program that generates a list of all possible combinations of two lists using list comprehension.\n",
    "\n",
    "34. Write a program that calculates the mean, median, and mode of a list of numbers using list \n",
    "comprehension.\n",
    "\n",
    "35. Create a program that generates Pascal's triangle up to a specified number of rows using list \n",
    "comprehension.\n",
    "\n",
    "36. Develop a program that calculates the sum of the digits of a factorial of numbers from 1 to 5 using list \n",
    "comprehension.\n",
    "\n",
    "37. Write a program that finds the longest word in a sentence using list comprehension.\n",
    "\n",
    "38. Create a program that filters a list of strings to include only those with more than three vowels using list \n",
    "comprehension.\n",
    "\n",
    "39. Develop a program that calculates the sum of the digits of numbers from 1 to 1000 using list \n",
    "comprehension.\n",
    "\n",
    "# 40. Write a program that generates a list of prime palindromic numbers using list comprehension"
   ]
  }
 ],
 "metadata": {
  "kernelspec": {
   "display_name": "Python 3 (ipykernel)",
   "language": "python",
   "name": "python3"
  },
  "language_info": {
   "codemirror_mode": {
    "name": "ipython",
    "version": 3
   },
   "file_extension": ".py",
   "mimetype": "text/x-python",
   "name": "python",
   "nbconvert_exporter": "python",
   "pygments_lexer": "ipython3",
   "version": "3.10.8"
  }
 },
 "nbformat": 4,
 "nbformat_minor": 5
}
